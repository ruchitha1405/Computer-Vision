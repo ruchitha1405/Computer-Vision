{
  "cells": [
    {
      "cell_type": "code",
      "execution_count": null,
      "metadata": {
        "id": "FaWQubOLzzST"
      },
      "outputs": [],
      "source": [
        "# For tips on running notebooks in Google Colab, see\n",
        "# https://pytorch.org/tutorials/beginner/colab\n",
        "%matplotlib inline"
      ]
    },
    {
      "cell_type": "markdown",
      "metadata": {
        "id": "0UJdsZFBzzSa"
      },
      "source": [
        "\n",
        "[Introduction](introyt1_tutorial.html) ||\n",
        "[Tensors](tensors_deeper_tutorial.html) ||\n",
        "[Autograd](autogradyt_tutorial.html) ||\n",
        "[Building Models](modelsyt_tutorial.html) ||\n",
        "[TensorBoard Support](tensorboardyt_tutorial.html) ||\n",
        "**Training Models** ||\n",
        "[Model Understanding](captumyt.html)\n",
        "\n",
        "# Training with PyTorch\n",
        "\n",
        "Follow along with the video below or on [youtube](https://www.youtube.com/watch?v=jF43_wj_DCQ)_.\n",
        "\n",
        ".. raw:: html\n",
        "\n",
        "   <div style=\"margin-top:10px; margin-bottom:10px;\">\n",
        "     <iframe width=\"560\" height=\"315\" src=\"https://www.youtube.com/embed/jF43_wj_DCQ\" frameborder=\"0\" allow=\"accelerometer; encrypted-media; gyroscope; picture-in-picture\" allowfullscreen></iframe>\n",
        "   </div>\n",
        "\n",
        "## Introduction\n",
        "\n",
        "In past videos, we’ve discussed and demonstrated:\n",
        "\n",
        "- Building models with the neural network layers and functions of the torch.nn module\n",
        "- The mechanics of automated gradient computation, which is central to\n",
        "  gradient-based model training\n",
        "- Using TensorBoard to visualize training progress and other activities\n",
        "\n",
        "In this video, we’ll be adding some new tools to your inventory:\n",
        "\n",
        "- We’ll get familiar with the dataset and dataloader abstractions, and how\n",
        "  they ease the process of feeding data to your model during a training loop\n",
        "- We’ll discuss specific loss functions and when to use them\n",
        "- We’ll look at PyTorch optimizers, which implement algorithms to adjust\n",
        "  model weights based on the outcome of a loss function\n",
        "\n",
        "Finally, we’ll pull all of these together and see a full PyTorch\n",
        "training loop in action.\n",
        "\n",
        "\n",
        "## Dataset and DataLoader\n",
        "\n",
        "The ``Dataset`` and ``DataLoader`` classes encapsulate the process of\n",
        "pulling your data from storage and exposing it to your training loop in\n",
        "batches.\n",
        "\n",
        "The ``Dataset`` is responsible for accessing and processing single\n",
        "instances of data.\n",
        "\n",
        "The ``DataLoader`` pulls instances of data from the ``Dataset`` (either\n",
        "automatically or with a sampler that you define), collects them in\n",
        "batches, and returns them for consumption by your training loop. The\n",
        "``DataLoader`` works with all kinds of datasets, regardless of the type\n",
        "of data they contain.\n",
        "\n",
        "For this tutorial, we’ll be using the Fashion-MNIST dataset provided by\n",
        "TorchVision. We use ``torchvision.transforms.Normalize()`` to\n",
        "zero-center and normalize the distribution of the image tile content,\n",
        "and download both training and validation data splits.\n"
      ]
    },
    {
      "cell_type": "code",
      "execution_count": null,
      "metadata": {
        "id": "TP8JmOevzzSe",
        "outputId": "ba90989c-5b63-429a-8c22-54c3b8dab1e0",
        "colab": {
          "base_uri": "https://localhost:8080/"
        }
      },
      "outputs": [
        {
          "output_type": "stream",
          "name": "stdout",
          "text": [
            "Downloading http://fashion-mnist.s3-website.eu-central-1.amazonaws.com/train-images-idx3-ubyte.gz\n",
            "Downloading http://fashion-mnist.s3-website.eu-central-1.amazonaws.com/train-images-idx3-ubyte.gz to ./data/FashionMNIST/raw/train-images-idx3-ubyte.gz\n"
          ]
        },
        {
          "output_type": "stream",
          "name": "stderr",
          "text": [
            "100%|██████████| 26421880/26421880 [00:02<00:00, 11859208.40it/s]\n"
          ]
        },
        {
          "output_type": "stream",
          "name": "stdout",
          "text": [
            "Extracting ./data/FashionMNIST/raw/train-images-idx3-ubyte.gz to ./data/FashionMNIST/raw\n",
            "\n",
            "Downloading http://fashion-mnist.s3-website.eu-central-1.amazonaws.com/train-labels-idx1-ubyte.gz\n",
            "Downloading http://fashion-mnist.s3-website.eu-central-1.amazonaws.com/train-labels-idx1-ubyte.gz to ./data/FashionMNIST/raw/train-labels-idx1-ubyte.gz\n"
          ]
        },
        {
          "output_type": "stream",
          "name": "stderr",
          "text": [
            "100%|██████████| 29515/29515 [00:00<00:00, 204622.68it/s]\n"
          ]
        },
        {
          "output_type": "stream",
          "name": "stdout",
          "text": [
            "Extracting ./data/FashionMNIST/raw/train-labels-idx1-ubyte.gz to ./data/FashionMNIST/raw\n",
            "\n",
            "Downloading http://fashion-mnist.s3-website.eu-central-1.amazonaws.com/t10k-images-idx3-ubyte.gz\n",
            "Downloading http://fashion-mnist.s3-website.eu-central-1.amazonaws.com/t10k-images-idx3-ubyte.gz to ./data/FashionMNIST/raw/t10k-images-idx3-ubyte.gz\n"
          ]
        },
        {
          "output_type": "stream",
          "name": "stderr",
          "text": [
            "100%|██████████| 4422102/4422102 [00:01<00:00, 3701861.47it/s]\n"
          ]
        },
        {
          "output_type": "stream",
          "name": "stdout",
          "text": [
            "Extracting ./data/FashionMNIST/raw/t10k-images-idx3-ubyte.gz to ./data/FashionMNIST/raw\n",
            "\n",
            "Downloading http://fashion-mnist.s3-website.eu-central-1.amazonaws.com/t10k-labels-idx1-ubyte.gz\n",
            "Downloading http://fashion-mnist.s3-website.eu-central-1.amazonaws.com/t10k-labels-idx1-ubyte.gz to ./data/FashionMNIST/raw/t10k-labels-idx1-ubyte.gz\n"
          ]
        },
        {
          "output_type": "stream",
          "name": "stderr",
          "text": [
            "100%|██████████| 5148/5148 [00:00<00:00, 6296960.34it/s]"
          ]
        },
        {
          "output_type": "stream",
          "name": "stdout",
          "text": [
            "Extracting ./data/FashionMNIST/raw/t10k-labels-idx1-ubyte.gz to ./data/FashionMNIST/raw\n",
            "\n",
            "Training set has 60000 instances\n",
            "Validation set has 10000 instances\n"
          ]
        },
        {
          "output_type": "stream",
          "name": "stderr",
          "text": [
            "\n"
          ]
        }
      ],
      "source": [
        "import torch\n",
        "import torchvision\n",
        "import torchvision.transforms as transforms\n",
        "\n",
        "# PyTorch TensorBoard support\n",
        "from torch.utils.tensorboard import SummaryWriter\n",
        "from datetime import datetime\n",
        "\n",
        "\n",
        "transform = transforms.Compose(\n",
        "    [transforms.ToTensor(),\n",
        "    transforms.Normalize((0.5,), (0.5,))])\n",
        "\n",
        "# Create datasets for training & validation, download if necessary\n",
        "training_set = torchvision.datasets.FashionMNIST('./data', train=True, transform=transform, download=True)\n",
        "validation_set = torchvision.datasets.FashionMNIST('./data', train=False, transform=transform, download=True)\n",
        "\n",
        "# Create data loaders for our datasets; shuffle for training, not for validation\n",
        "training_loader = torch.utils.data.DataLoader(training_set, batch_size=4, shuffle=True)\n",
        "validation_loader = torch.utils.data.DataLoader(validation_set, batch_size=4, shuffle=False)\n",
        "\n",
        "# Class labels\n",
        "classes = ('T-shirt/top', 'Trouser', 'Pullover', 'Dress', 'Coat',\n",
        "        'Sandal', 'Shirt', 'Sneaker', 'Bag', 'Ankle Boot')\n",
        "\n",
        "# Report split sizes\n",
        "print('Training set has {} instances'.format(len(training_set)))\n",
        "print('Validation set has {} instances'.format(len(validation_set)))"
      ]
    },
    {
      "cell_type": "markdown",
      "metadata": {
        "id": "93doLp_XzzSf"
      },
      "source": [
        "As always, let’s visualize the data as a sanity check:\n",
        "\n",
        "\n"
      ]
    },
    {
      "cell_type": "code",
      "execution_count": null,
      "metadata": {
        "id": "2MHq5aQMzzSf",
        "outputId": "dd3bef11-1873-4545-dc39-46461cb7cb29",
        "colab": {
          "base_uri": "https://localhost:8080/",
          "height": 211
        }
      },
      "outputs": [
        {
          "output_type": "stream",
          "name": "stdout",
          "text": [
            "Shirt  Pullover  Dress  Sandal\n"
          ]
        },
        {
          "output_type": "display_data",
          "data": {
            "text/plain": [
              "<Figure size 640x480 with 1 Axes>"
            ],
            "image/png": "[encoded data removed]"
          },
          "metadata": {}
        }
      ],
      "source": [
        "import matplotlib.pyplot as plt\n",
        "import numpy as np\n",
        "\n",
        "# Helper function for inline image display\n",
        "def matplotlib_imshow(img, one_channel=False):\n",
        "    if one_channel:\n",
        "        img = img.mean(dim=0)\n",
        "    img = img / 2 + 0.5     # unnormalize\n",
        "    npimg = img.numpy()\n",
        "    if one_channel:\n",
        "        plt.imshow(npimg, cmap=\"Greys\")\n",
        "    else:\n",
        "        plt.imshow(np.transpose(npimg, (1, 2, 0)))\n",
        "\n",
        "dataiter = iter(training_loader)\n",
        "images, labels = next(dataiter)\n",
        "\n",
        "# Create a grid from the images and show them\n",
        "img_grid = torchvision.utils.make_grid(images)\n",
        "matplotlib_imshow(img_grid, one_channel=True)\n",
        "print('  '.join(classes[labels[j]] for j in range(4)))"
      ]
    },
    {
      "cell_type": "markdown",
      "metadata": {
        "id": "Jo1kOyDYzzSg"
      },
      "source": [
        "## The Model\n",
        "\n",
        "The model we’ll use in this example is a variant of LeNet-5 - it should\n",
        "be familiar if you’ve watched the previous videos in this series.\n",
        "\n",
        "\n"
      ]
    },
    {
      "cell_type": "code",
      "execution_count": null,
      "metadata": {
        "id": "RfLBa00SzzSh"
      },
      "outputs": [],
      "source": [
        "import torch.nn as nn\n",
        "import torch.nn.functional as F\n",
        "\n",
        "# PyTorch models inherit from torch.nn.Module\n",
        "class GarmentClassifier(nn.Module):\n",
        "    def __init__(self):\n",
        "        super(GarmentClassifier, self).__init__()\n",
        "        self.conv1 = nn.Conv2d(1, 6, 5)\n",
        "        self.pool = nn.MaxPool2d(2, 2)\n",
        "        self.conv2 = nn.Conv2d(6, 16, 5)\n",
        "        self.fc1 = nn.Linear(16 * 4 * 4, 120)\n",
        "        self.fc2 = nn.Linear(120, 84)\n",
        "        self.fc3 = nn.Linear(84, 10)\n",
        "\n",
        "    def forward(self, x):\n",
        "        x = self.pool(F.relu(self.conv1(x)))\n",
        "        x = self.pool(F.relu(self.conv2(x)))\n",
        "        x = x.view(-1, 16 * 4 * 4)\n",
        "        x = F.relu(self.fc1(x))\n",
        "        x = F.relu(self.fc2(x))\n",
        "        x = self.fc3(x)\n",
        "        return x\n",
        "\n",
        "\n",
        "model = GarmentClassifier()"
      ]
    },
    {
      "cell_type": "markdown",
      "metadata": {
        "id": "GswfwqRYzzSh"
      },
      "source": [
        "## Loss Function\n",
        "\n",
        "For this example, we’ll be using a cross-entropy loss. For demonstration\n",
        "purposes, we’ll create batches of dummy output and label values, run\n",
        "them through the loss function, and examine the result.\n",
        "\n",
        "\n"
      ]
    },
    {
      "cell_type": "code",
      "execution_count": null,
      "metadata": {
        "id": "AUX-OO-9zzSi",
        "colab": {
          "base_uri": "https://localhost:8080/"
        },
        "outputId": "45920c46-3b10-43f9-d0da-b564ad8a8021"
      },
      "outputs": [
        {
          "output_type": "stream",
          "name": "stdout",
          "text": [
            "tensor([[0.7604, 0.1472, 0.9480, 0.8149, 0.5351, 0.1794, 0.2094, 0.4800, 0.2934,\n",
            "         0.4981],\n",
            "        [0.9848, 0.2038, 0.1311, 0.6688, 0.5548, 0.7559, 0.6738, 0.5627, 0.8330,\n",
            "         0.3182],\n",
            "        [0.5982, 0.8015, 0.1353, 0.6472, 0.2095, 0.3052, 0.1160, 0.5713, 0.1464,\n",
            "         0.1558],\n",
            "        [0.6378, 0.6427, 0.5564, 0.0261, 0.1867, 0.2539, 0.7345, 0.9062, 0.6812,\n",
            "         0.0384]])\n",
            "tensor([1, 5, 3, 7])\n",
            "Total loss for this batch: 2.1969432830810547\n"
          ]
        }
      ],
      "source": [
        "loss_fn = torch.nn.CrossEntropyLoss()\n",
        "\n",
        "# NB: Loss functions expect data in batches, so we're creating batches of 4\n",
        "# Represents the model's confidence in each of the 10 classes for a given input\n",
        "dummy_outputs = torch.rand(4, 10)\n",
        "# Represents the correct class among the 10 being tested\n",
        "dummy_labels = torch.tensor([1, 5, 3, 7])\n",
        "\n",
        "print(dummy_outputs)\n",
        "print(dummy_labels)\n",
        "\n",
        "loss = loss_fn(dummy_outputs, dummy_labels)\n",
        "print('Total loss for this batch: {}'.format(loss.item()))"
      ]
    },
    {
      "cell_type": "markdown",
      "metadata": {
        "id": "fU7MW_fwzzSi"
      },
      "source": [
        "## Optimizer\n",
        "\n",
        "For this example, we’ll be using simple [stochastic gradient\n",
        "descent](https://pytorch.org/docs/stable/optim.html)_ with momentum.\n",
        "\n",
        "It can be instructive to try some variations on this optimization\n",
        "scheme:\n",
        "\n",
        "- Learning rate determines the size of the steps the optimizer\n",
        "  takes. What does a different learning rate do to the your training\n",
        "  results, in terms of accuracy and convergence time?\n",
        "- Momentum nudges the optimizer in the direction of strongest gradient over\n",
        "  multiple steps. What does changing this value do to your results?\n",
        "- Try some different optimization algorithms, such as averaged SGD, Adagrad, or\n",
        "  Adam. How do your results differ?\n",
        "\n",
        "\n"
      ]
    },
    {
      "cell_type": "code",
      "execution_count": null,
      "metadata": {
        "id": "pyvlBI6azzSj"
      },
      "outputs": [],
      "source": [
        "# Optimizers specified in the torch.optim package\n",
        "optimizer = torch.optim.SGD(model.parameters(), lr=0.001, momentum=0.9)"
      ]
    },
    {
      "cell_type": "markdown",
      "metadata": {
        "id": "NVMBWVmBzzSj"
      },
      "source": [
        "## The Training Loop"
      ]
    },
    {
      "cell_type": "markdown",
      "source": [
        "Basic Strcuture of Training Loop:\n",
        "1. Forward Pass\n",
        "2. Compute Loss\n",
        "3. Backprop\n",
        "4. Update Gradients"
      ],
      "metadata": {
        "id": "OTnVbLaUQt9x"
      }
    },
    {
      "cell_type": "markdown",
      "source": [
        "Below, we have a function that performs one training epoch. It\n",
        "enumerates data from the DataLoader, and on each pass of the loop does\n",
        "the following:\n",
        "\n",
        "- Gets a batch of training data from the DataLoader\n",
        "- Zeros the optimizer’s gradients\n",
        "- Performs an inference - that is, gets predictions from the model for an input batch\n",
        "- Calculates the loss for that set of predictions vs. the labels on the dataset\n",
        "- Calculates the backward gradients over the learning weights\n",
        "- Tells the optimizer to perform one learning step - that is, adjust the model’s\n",
        "  learning weights based on the observed gradients for this batch, according to the\n",
        "  optimization algorithm we chose\n",
        "- It reports on the loss for every 1000 batches.\n",
        "- Finally, it reports the average per-batch loss for the last\n",
        "  1000 batches, for comparison with a validation run"
      ],
      "metadata": {
        "id": "4U_RmD-MRC-Z"
      }
    },
    {
      "cell_type": "code",
      "execution_count": null,
      "metadata": {
        "id": "twFzjYMFzzSk"
      },
      "outputs": [],
      "source": [
        "def train_one_epoch(epoch_index, tb_writer):\n",
        "    running_loss = 0.\n",
        "    last_loss = 0.\n",
        "\n",
        "    # Here, we use enumerate(training_loader) instead of\n",
        "    # iter(training_loader) so that we can track the batch\n",
        "    # index and do some intra-epoch reporting\n",
        "    for i, data in enumerate(training_loader):\n",
        "        # Every data instance is an input + label pair\n",
        "        inputs, labels = data\n",
        "\n",
        "        # Zero your gradients for every batch!\n",
        "        optimizer.zero_grad()\n",
        "\n",
        "        # Make predictions for this batch\n",
        "        outputs = model(inputs)\n",
        "\n",
        "        # Compute the loss and its gradients\n",
        "        loss = loss_fn(outputs, labels)\n",
        "        loss.backward()\n",
        "\n",
        "        # Adjust learning weights\n",
        "        optimizer.step()\n",
        "\n",
        "        # Gather data and report\n",
        "        running_loss += loss.item()\n",
        "        if i % 1000 == 999:\n",
        "            last_loss = running_loss / 1000 # loss per batch\n",
        "            print('  batch {} loss: {}'.format(i + 1, last_loss))\n",
        "            tb_x = epoch_index * len(training_loader) + i + 1\n",
        "            tb_writer.add_scalar('Loss/train', last_loss, tb_x)\n",
        "            running_loss = 0.\n",
        "\n",
        "    return last_loss"
      ]
    },
    {
      "cell_type": "markdown",
      "metadata": {
        "id": "KGHaJX8_zzSk"
      },
      "source": [
        "### Per-Epoch Activity\n",
        "\n",
        "There are a couple of things we’ll want to do once per epoch:\n",
        "\n",
        "- Perform validation by checking our relative loss on a set of data that was not\n",
        "  used for training, and report this\n",
        "- Save a copy of the model\n",
        "\n",
        "Here, we’ll do our reporting in TensorBoard. This will require going to\n",
        "the command line to start TensorBoard, and opening it in another browser\n",
        "tab.\n",
        "\n",
        "\n"
      ]
    },
    {
      "cell_type": "code",
      "execution_count": null,
      "metadata": {
        "id": "cujCHAV6zzSk",
        "colab": {
          "base_uri": "https://localhost:8080/"
        },
        "outputId": "ab1b826c-0c1d-4987-9fc1-22ee6f4777b3"
      },
      "outputs": [
        {
          "output_type": "stream",
          "name": "stdout",
          "text": [
            "EPOCH 1:\n",
            "  batch 1000 loss: 1.913488295584917\n",
            "  batch 2000 loss: 0.8624016126766801\n",
            "  batch 3000 loss: 0.7181801581969485\n",
            "  batch 4000 loss: 0.6629665303919464\n",
            "  batch 5000 loss: 0.5766087478972041\n",
            "  batch 6000 loss: 0.5946087592300028\n",
            "  batch 7000 loss: 0.5514831601597835\n",
            "  batch 8000 loss: 0.5523427995835664\n",
            "  batch 9000 loss: 0.5286849540960975\n",
            "  batch 10000 loss: 0.4911040255073458\n",
            "  batch 11000 loss: 0.48457202874997163\n",
            "  batch 12000 loss: 0.4768406545589678\n",
            "  batch 13000 loss: 0.4597095717432676\n",
            "  batch 14000 loss: 0.4481050668252865\n",
            "  batch 15000 loss: 0.458668195448583\n",
            "LOSS train 0.458668195448583 valid 0.4334159791469574\n",
            "EPOCH 2:\n",
            "  batch 1000 loss: 0.41549847766652237\n",
            "  batch 2000 loss: 0.43283820496709086\n",
            "  batch 3000 loss: 0.416872202815488\n",
            "  batch 4000 loss: 0.3971898249628721\n",
            "  batch 5000 loss: 0.4017098819911917\n",
            "  batch 6000 loss: 0.4141102443793789\n",
            "  batch 7000 loss: 0.3958982159458974\n",
            "  batch 8000 loss: 0.3881867281425512\n",
            "  batch 9000 loss: 0.3883501681509224\n",
            "  batch 10000 loss: 0.39177395682828503\n",
            "  batch 11000 loss: 0.38310587899794335\n",
            "  batch 12000 loss: 0.3786105078487308\n",
            "  batch 13000 loss: 0.37666067516390467\n",
            "  batch 14000 loss: 0.35713969646481564\n",
            "  batch 15000 loss: 0.3866935595610594\n",
            "LOSS train 0.3866935595610594 valid 0.3864647150039673\n"
          ]
        }
      ],
      "source": [
        "# Initializing in a separate cell so we can easily add more epochs to the same run\n",
        "timestamp = datetime.now().strftime('%Y%m%d_%H%M%S')\n",
        "writer = SummaryWriter('runs/fashion_trainer_{}'.format(timestamp))\n",
        "epoch_number = 0\n",
        "\n",
        "EPOCHS = 2\n",
        "\n",
        "best_vloss = 1_000_000.\n",
        "\n",
        "for epoch in range(EPOCHS):\n",
        "    print('EPOCH {}:'.format(epoch_number + 1))\n",
        "\n",
        "    # Make sure gradient tracking is on, and do a pass over the data\n",
        "    model.train(True)\n",
        "    avg_loss = train_one_epoch(epoch_number, writer)\n",
        "\n",
        "\n",
        "    running_vloss = 0.0\n",
        "    # Set the model to evaluation mode, disabling dropout and using population\n",
        "    # statistics for batch normalization.\n",
        "    model.eval()\n",
        "\n",
        "    # Disable gradient computation and reduce memory consumption.\n",
        "    with torch.no_grad():\n",
        "        for i, vdata in enumerate(validation_loader):\n",
        "            vinputs, vlabels = vdata\n",
        "            voutputs = model(vinputs)\n",
        "            vloss = loss_fn(voutputs, vlabels)\n",
        "            running_vloss += vloss\n",
        "\n",
        "    avg_vloss = running_vloss / (i + 1)\n",
        "    print('LOSS train {} valid {}'.format(avg_loss, avg_vloss))\n",
        "\n",
        "    # Log the running loss averaged per batch\n",
        "    # for both training and validation\n",
        "    writer.add_scalars('Training vs. Validation Loss',\n",
        "                    { 'Training' : avg_loss, 'Validation' : avg_vloss },\n",
        "                    epoch_number + 1)\n",
        "    writer.flush()\n",
        "\n",
        "    # Track best performance, and save the model's state\n",
        "    if avg_vloss < best_vloss:\n",
        "        best_vloss = avg_vloss\n",
        "        model_path = 'model_{}_{}'.format(timestamp, epoch_number)\n",
        "        torch.save(model.state_dict(), model_path)\n",
        "\n",
        "    epoch_number += 1"
      ]
    },
    {
      "cell_type": "markdown",
      "metadata": {
        "id": "icIZvT2BzzSl"
      },
      "source": [
        "To load a saved version of the model:\n",
        "\n",
        ".. code:: python\n",
        "\n",
        "    saved_model = GarmentClassifier()\n",
        "    saved_model.load_state_dict(torch.load(PATH))\n",
        "\n",
        "Once you’ve loaded the model, it’s ready for whatever you need it for -\n",
        "more training, inference, or analysis.\n",
        "\n",
        "Note that if your model has constructor parameters that affect model\n",
        "structure, you’ll need to provide them and configure the model\n",
        "identically to the state in which it was saved.\n",
        "\n",
        "## Other Resources\n",
        "\n",
        "-  Docs on the [data\n",
        "   utilities](https://pytorch.org/docs/stable/data.html)_, including\n",
        "   Dataset and DataLoader, at pytorch.org\n",
        "-  A [note on the use of pinned\n",
        "   memory](https://pytorch.org/docs/stable/notes/cuda.html#cuda-memory-pinning)_\n",
        "   for GPU training\n",
        "-  Documentation on the datasets available in\n",
        "   [TorchVision](https://pytorch.org/vision/stable/datasets.html)_,\n",
        "   [TorchText](https://pytorch.org/text/stable/datasets.html)_, and\n",
        "   [TorchAudio](https://pytorch.org/audio/stable/datasets.html)_\n",
        "-  Documentation on the [loss\n",
        "   functions](https://pytorch.org/docs/stable/nn.html#loss-functions)_\n",
        "   available in PyTorch\n",
        "-  Documentation on the [torch.optim\n",
        "   package](https://pytorch.org/docs/stable/optim.html)_, which\n",
        "   includes optimizers and related tools, such as learning rate\n",
        "   scheduling\n",
        "-  A detailed [tutorial on saving and loading\n",
        "   models](https://pytorch.org/tutorials/beginner/saving_loading_models.html)_\n",
        "-  The [Tutorials section of\n",
        "   pytorch.org](https://pytorch.org/tutorials/)_ contains tutorials on\n",
        "   a broad variety of training tasks, including classification in\n",
        "   different domains, generative adversarial networks, reinforcement\n",
        "   learning, and more\n",
        "\n",
        "\n"
      ]
    },
    {
      "cell_type": "markdown",
      "source": [
        "# Experiment Tracking\n",
        "Why it Matters\n",
        "- Reproducibility: Re-run successful experiments and understand \"why\" they worked.\n",
        "- Comparison & Analysis: Easily compare runs, identify trends, and find the best configuration.\n",
        "- Collaboration & Sharing: Centralized platform for sharing findings and tracking progress.\n",
        "- Efficiency & Time-Saving: Avoid manual data entry and lost information.\n",
        "\n",
        "> Experiment tracking is crucial for *learning from your experiments* and building better ML/DL models."
      ],
      "metadata": {
        "id": "sWO8lge0P_m4"
      }
    },
    {
      "cell_type": "markdown",
      "source": [
        "#### Main Ideas\n",
        "\n",
        "- You want to track your values and keep record of your configurations\n",
        "- You tell **what** to track\n",
        "- You may also need to inform **when** to track"
      ],
      "metadata": {
        "id": "sC3SvuhjUjJA"
      }
    },
    {
      "cell_type": "markdown",
      "source": [
        "### Functions to look out for!\n",
        "1. `wandb.log` - The main logger!!\n",
        "2. `wandb.config`- Config Structure for model. Track independant non-changing parameters\n",
        "2. `wandb.init` - init your project tracking!\n",
        "2. `wandb.watch` - Track you model parameters: Weights and Biases\n",
        "3. `wandb.sweep` - Model Optimization - Find the best hyperparameter\n",
        "4. `wandb.Image`, `wandb.Video`, `Table`, .... etc. [Check](https://docs.wandb.ai/guides/track/log/media)\n",
        "\n",
        "Input is usually:\n",
        "*Data structure* - `dict` or `YAML`\n",
        "(*Key:Value* :-  `{'name': value}`)\n",
        "\n",
        "\n",
        "\n",
        "Resources:\n",
        "- https://docs.wandb.ai/guides/track/log"
      ],
      "metadata": {
        "id": "srElhgdiS90t"
      }
    },
    {
      "cell_type": "code",
      "source": [
        "!pip install wandb\n",
        "!pip install torchmetrics"
      ],
      "metadata": {
        "colab": {
          "base_uri": "https://localhost:8080/"
        },
        "id": "Emq1KtSmW7Z0",
        "outputId": "a1280dee-1aad-42c0-a7b4-d7fe5a2b4d55"
      },
      "execution_count": null,
      "outputs": [
        {
          "output_type": "stream",
          "name": "stdout",
          "text": [
            "Collecting wandb\n",
            "  Downloading wandb-0.16.3-py3-none-any.whl (2.2 MB)\n",
            "\u001b[2K     \u001b[90m━━━━━━━━━━━━━━━━━━━━━━━━━━━━━━━━━━━━━━━━\u001b[0m \u001b[32m2.2/2.2 MB\u001b[0m \u001b[31m15.4 MB/s\u001b[0m eta \u001b[36m0:00:00\u001b[0m\n",
            "\u001b[?25hRequirement already satisfied: Click!=8.0.0,>=7.1 in /usr/local/lib/python3.10/dist-packages (from wandb) (8.1.7)\n",
            "Collecting GitPython!=3.1.29,>=1.0.0 (from wandb)\n",
            "  Downloading GitPython-3.1.42-py3-none-any.whl (195 kB)\n",
            "\u001b[2K     \u001b[90m━━━━━━━━━━━━━━━━━━━━━━━━━━━━━━━━━━━━━━━━\u001b[0m \u001b[32m195.4/195.4 kB\u001b[0m \u001b[31m22.1 MB/s\u001b[0m eta \u001b[36m0:00:00\u001b[0m\n",
            "\u001b[?25hRequirement already satisfied: requests<3,>=2.0.0 in /usr/local/lib/python3.10/dist-packages (from wandb) (2.31.0)\n",
            "Requirement already satisfied: psutil>=5.0.0 in /usr/local/lib/python3.10/dist-packages (from wandb) (5.9.5)\n",
            "Collecting sentry-sdk>=1.0.0 (from wandb)\n",
            "  Downloading sentry_sdk-1.40.5-py2.py3-none-any.whl (258 kB)\n",
            "\u001b[2K     \u001b[90m━━━━━━━━━━━━━━━━━━━━━━━━━━━━━━━━━━━━━━━━\u001b[0m \u001b[32m258.5/258.5 kB\u001b[0m \u001b[31m20.7 MB/s\u001b[0m eta \u001b[36m0:00:00\u001b[0m\n",
            "\u001b[?25hCollecting docker-pycreds>=0.4.0 (from wandb)\n",
            "  Downloading docker_pycreds-0.4.0-py2.py3-none-any.whl (9.0 kB)\n",
            "Requirement already satisfied: PyYAML in /usr/local/lib/python3.10/dist-packages (from wandb) (6.0.1)\n",
            "Collecting setproctitle (from wandb)\n",
            "  Downloading setproctitle-1.3.3-cp310-cp310-manylinux_2_5_x86_64.manylinux1_x86_64.manylinux_2_17_x86_64.manylinux2014_x86_64.whl (30 kB)\n",
            "Requirement already satisfied: setuptools in /usr/local/lib/python3.10/dist-packages (from wandb) (67.7.2)\n",
            "Requirement already satisfied: appdirs>=1.4.3 in /usr/local/lib/python3.10/dist-packages (from wandb) (1.4.4)\n",
            "Requirement already satisfied: protobuf!=4.21.0,<5,>=3.19.0 in /usr/local/lib/python3.10/dist-packages (from wandb) (3.20.3)\n",
            "Requirement already satisfied: six>=1.4.0 in /usr/local/lib/python3.10/dist-packages (from docker-pycreds>=0.4.0->wandb) (1.16.0)\n",
            "Collecting gitdb<5,>=4.0.1 (from GitPython!=3.1.29,>=1.0.0->wandb)\n",
            "  Downloading gitdb-4.0.11-py3-none-any.whl (62 kB)\n",
            "\u001b[2K     \u001b[90m━━━━━━━━━━━━━━━━━━━━━━━━━━━━━━━━━━━━━━━━\u001b[0m \u001b[32m62.7/62.7 kB\u001b[0m \u001b[31m10.3 MB/s\u001b[0m eta \u001b[36m0:00:00\u001b[0m\n",
            "\u001b[?25hRequirement already satisfied: charset-normalizer<4,>=2 in /usr/local/lib/python3.10/dist-packages (from requests<3,>=2.0.0->wandb) (3.3.2)\n",
            "Requirement already satisfied: idna<4,>=2.5 in /usr/local/lib/python3.10/dist-packages (from requests<3,>=2.0.0->wandb) (3.6)\n",
            "Requirement already satisfied: urllib3<3,>=1.21.1 in /usr/local/lib/python3.10/dist-packages (from requests<3,>=2.0.0->wandb) (2.0.7)\n",
            "Requirement already satisfied: certifi>=2017.4.17 in /usr/local/lib/python3.10/dist-packages (from requests<3,>=2.0.0->wandb) (2024.2.2)\n",
            "Collecting smmap<6,>=3.0.1 (from gitdb<5,>=4.0.1->GitPython!=3.1.29,>=1.0.0->wandb)\n",
            "  Downloading smmap-5.0.1-py3-none-any.whl (24 kB)\n",
            "Installing collected packages: smmap, setproctitle, sentry-sdk, docker-pycreds, gitdb, GitPython, wandb\n",
            "Successfully installed GitPython-3.1.42 docker-pycreds-0.4.0 gitdb-4.0.11 sentry-sdk-1.40.5 setproctitle-1.3.3 smmap-5.0.1 wandb-0.16.3\n",
            "Collecting torchmetrics\n",
            "  Downloading torchmetrics-1.3.1-py3-none-any.whl (840 kB)\n",
            "\u001b[2K     \u001b[90m━━━━━━━━━━━━━━━━━━━━━━━━━━━━━━━━━━━━━━━━\u001b[0m \u001b[32m840.4/840.4 kB\u001b[0m \u001b[31m15.0 MB/s\u001b[0m eta \u001b[36m0:00:00\u001b[0m\n",
            "\u001b[?25hRequirement already satisfied: numpy>1.20.0 in /usr/local/lib/python3.10/dist-packages (from torchmetrics) (1.25.2)\n",
            "Requirement already satisfied: packaging>17.1 in /usr/local/lib/python3.10/dist-packages (from torchmetrics) (23.2)\n",
            "Requirement already satisfied: torch>=1.10.0 in /usr/local/lib/python3.10/dist-packages (from torchmetrics) (2.1.0+cu121)\n",
            "Collecting lightning-utilities>=0.8.0 (from torchmetrics)\n",
            "  Downloading lightning_utilities-0.10.1-py3-none-any.whl (24 kB)\n",
            "Requirement already satisfied: setuptools in /usr/local/lib/python3.10/dist-packages (from lightning-utilities>=0.8.0->torchmetrics) (67.7.2)\n",
            "Requirement already satisfied: typing-extensions in /usr/local/lib/python3.10/dist-packages (from lightning-utilities>=0.8.0->torchmetrics) (4.9.0)\n",
            "Requirement already satisfied: filelock in /usr/local/lib/python3.10/dist-packages (from torch>=1.10.0->torchmetrics) (3.13.1)\n",
            "Requirement already satisfied: sympy in /usr/local/lib/python3.10/dist-packages (from torch>=1.10.0->torchmetrics) (1.12)\n",
            "Requirement already satisfied: networkx in /usr/local/lib/python3.10/dist-packages (from torch>=1.10.0->torchmetrics) (3.2.1)\n",
            "Requirement already satisfied: jinja2 in /usr/local/lib/python3.10/dist-packages (from torch>=1.10.0->torchmetrics) (3.1.3)\n",
            "Requirement already satisfied: fsspec in /usr/local/lib/python3.10/dist-packages (from torch>=1.10.0->torchmetrics) (2023.6.0)\n",
            "Requirement already satisfied: triton==2.1.0 in /usr/local/lib/python3.10/dist-packages (from torch>=1.10.0->torchmetrics) (2.1.0)\n",
            "Requirement already satisfied: MarkupSafe>=2.0 in /usr/local/lib/python3.10/dist-packages (from jinja2->torch>=1.10.0->torchmetrics) (2.1.5)\n",
            "Requirement already satisfied: mpmath>=0.19 in /usr/local/lib/python3.10/dist-packages (from sympy->torch>=1.10.0->torchmetrics) (1.3.0)\n",
            "Installing collected packages: lightning-utilities, torchmetrics\n",
            "Successfully installed lightning-utilities-0.10.1 torchmetrics-1.3.1\n"
          ]
        }
      ]
    },
    {
      "cell_type": "code",
      "source": [
        "import wandb\n",
        "from pprint import pprint\n",
        "wandb.login()"
      ],
      "metadata": {
        "colab": {
          "base_uri": "https://localhost:8080/",
          "height": 121
        },
        "id": "QXd5fCkwW6ny",
        "outputId": "17f476e7-b552-4012-8dfc-bcba0d2f9f8c"
      },
      "execution_count": null,
      "outputs": [
        {
          "output_type": "display_data",
          "data": {
            "text/plain": [
              "<IPython.core.display.Javascript object>"
            ],
            "application/javascript": [
              "\n",
              "        window._wandbApiKey = new Promise((resolve, reject) => {\n",
              "            function loadScript(url) {\n",
              "            return new Promise(function(resolve, reject) {\n",
              "                let newScript = document.createElement(\"script\");\n",
              "                newScript.onerror = reject;\n",
              "                newScript.onload = resolve;\n",
              "                document.body.appendChild(newScript);\n",
              "                newScript.src = url;\n",
              "            });\n",
              "            }\n",
              "            loadScript(\"https://cdn.jsdelivr.net/npm/postmate/build/postmate.min.js\").then(() => {\n",
              "            const iframe = document.createElement('iframe')\n",
              "            iframe.style.cssText = \"width:0;height:0;border:none\"\n",
              "            document.body.appendChild(iframe)\n",
              "            const handshake = new Postmate({\n",
              "                container: iframe,\n",
              "                url: 'https://wandb.ai/authorize'\n",
              "            });\n",
              "            const timeout = setTimeout(() => reject(\"Couldn't auto authenticate\"), 5000)\n",
              "            handshake.then(function(child) {\n",
              "                child.on('authorize', data => {\n",
              "                    clearTimeout(timeout)\n",
              "                    resolve(data)\n",
              "                });\n",
              "            });\n",
              "            })\n",
              "        });\n",
              "    "
            ]
          },
          "metadata": {}
        },
        {
          "output_type": "stream",
          "name": "stderr",
          "text": [
            "\u001b[34m\u001b[1mwandb\u001b[0m: Logging into wandb.ai. (Learn how to deploy a W&B server locally: https://wandb.me/wandb-server)\n",
            "\u001b[34m\u001b[1mwandb\u001b[0m: You can find your API key in your browser here: https://wandb.ai/authorize\n",
            "wandb: Paste an API key from your profile and hit enter, or press ctrl+c to quit:"
          ]
        },
        {
          "name": "stdout",
          "output_type": "stream",
          "text": [
            " ··········\n"
          ]
        },
        {
          "output_type": "stream",
          "name": "stderr",
          "text": [
            "\u001b[34m\u001b[1mwandb\u001b[0m: Appending key for api.wandb.ai to your netrc file: /root/.netrc\n"
          ]
        },
        {
          "output_type": "execute_result",
          "data": {
            "text/plain": [
              "True"
            ]
          },
          "metadata": {},
          "execution_count": 7
        }
      ]
    },
    {
      "cell_type": "markdown",
      "source": [
        "`wandb.run`: Each run is an experiment!"
      ],
      "metadata": {
        "id": "JAhBTlyu80lv"
      }
    },
    {
      "cell_type": "code",
      "source": [
        "# Initialize a new wandb experiment\n",
        "run = wandb.init(project=\"CV-Tutorial\")# , entity=\"your-username\")"
      ],
      "metadata": {
        "id": "zqvzuOTufaag",
        "colab": {
          "base_uri": "https://localhost:8080/",
          "height": 121
        },
        "outputId": "b2568f99-1557-498f-808a-80932209caf5"
      },
      "execution_count": null,
      "outputs": [
        {
          "output_type": "stream",
          "name": "stderr",
          "text": [
            "\u001b[34m\u001b[1mwandb\u001b[0m: Currently logged in as: \u001b[33mkhan_itachi\u001b[0m. Use \u001b[1m`wandb login --relogin`\u001b[0m to force relogin\n"
          ]
        },
        {
          "output_type": "display_data",
          "data": {
            "text/plain": [
              "<IPython.core.display.HTML object>"
            ],
            "text/html": [
              "Tracking run with wandb version 0.16.3"
            ]
          },
          "metadata": {}
        },
        {
          "output_type": "display_data",
          "data": {
            "text/plain": [
              "<IPython.core.display.HTML object>"
            ],
            "text/html": [
              "Run data is saved locally in <code>/content/wandb/run-20240223_213642-50r3ksmq</code>"
            ]
          },
          "metadata": {}
        },
        {
          "output_type": "display_data",
          "data": {
            "text/plain": [
              "<IPython.core.display.HTML object>"
            ],
            "text/html": [
              "Syncing run <strong><a href='https://wandb.ai/khan_itachi/CV-Tutorial/runs/50r3ksmq' target=\"_blank\">dancing-chrysanthemum-20</a></strong> to <a href='https://wandb.ai/khan_itachi/CV-Tutorial' target=\"_blank\">Weights & Biases</a> (<a href='https://wandb.me/run' target=\"_blank\">docs</a>)<br/>"
            ]
          },
          "metadata": {}
        },
        {
          "output_type": "display_data",
          "data": {
            "text/plain": [
              "<IPython.core.display.HTML object>"
            ],
            "text/html": [
              " View project at <a href='https://wandb.ai/khan_itachi/CV-Tutorial' target=\"_blank\">https://wandb.ai/khan_itachi/CV-Tutorial</a>"
            ]
          },
          "metadata": {}
        },
        {
          "output_type": "display_data",
          "data": {
            "text/plain": [
              "<IPython.core.display.HTML object>"
            ],
            "text/html": [
              " View run at <a href='https://wandb.ai/khan_itachi/CV-Tutorial/runs/50r3ksmq' target=\"_blank\">https://wandb.ai/khan_itachi/CV-Tutorial/runs/50r3ksmq</a>"
            ]
          },
          "metadata": {}
        }
      ]
    },
    {
      "cell_type": "code",
      "source": [
        "# Log hyperparameters\n",
        "wandb.config.learning_rate =  0.001 # what to track\n",
        "wandb.config.batch_size =  128 # what to track\n",
        "wandb.config.epoch = 10"
      ],
      "metadata": {
        "id": "FqOwmRzYS9kf"
      },
      "execution_count": null,
      "outputs": []
    },
    {
      "cell_type": "code",
      "source": [
        "pprint(wandb.config)"
      ],
      "metadata": {
        "colab": {
          "base_uri": "https://localhost:8080/"
        },
        "id": "VWzQgIzsYgIm",
        "outputId": "03c51d9e-0778-4e99-a7f4-9c8e17ac8e83"
      },
      "execution_count": null,
      "outputs": [
        {
          "output_type": "stream",
          "name": "stdout",
          "text": [
            "{'learning_rate': 0.001, 'batch_size': 128, 'epoch': 10}\n"
          ]
        }
      ]
    },
    {
      "cell_type": "code",
      "source": [
        "device = torch.device(\"cuda\" if torch.cuda.is_available() else \"cpu\")\n",
        "pprint(device)"
      ],
      "metadata": {
        "colab": {
          "base_uri": "https://localhost:8080/"
        },
        "id": "bLRtN3T6ZeXx",
        "outputId": "19f69f55-9c83-4abb-b01d-3a44581ab85c"
      },
      "execution_count": null,
      "outputs": [
        {
          "output_type": "stream",
          "name": "stdout",
          "text": [
            "device(type='cuda')\n"
          ]
        }
      ]
    },
    {
      "cell_type": "code",
      "source": [
        "# Define the model using nn.Sequential\n",
        "model = nn.Sequential(\n",
        "    nn.Conv2d(1,  6,  5),\n",
        "    nn.ReLU(),\n",
        "    nn.MaxPool2d(2,  2),\n",
        "    nn.Conv2d(6,  16,  5),\n",
        "    nn.ReLU(),\n",
        "    nn.MaxPool2d(2,  2),\n",
        "    nn.Flatten(),  # Assuming Flatten is a custom class that flattens the tensor\n",
        "    nn.Linear(16 *  4 *  4,  120),\n",
        "    nn.ReLU(),\n",
        "    nn.Linear(120,  84),\n",
        "    nn.ReLU(),\n",
        "    nn.Linear(84,  10)\n",
        ")\n",
        "\n",
        "model.to(device)\n",
        "\n",
        "# Track Model Params\n",
        "wandb.watch(model, log='all')\n",
        "# https://docs.wandb.ai/ref/python/watch\n",
        "\n",
        "\n",
        "criterion = nn.CrossEntropyLoss() # loss function\n",
        "optimizer = torch.optim.SGD(model.parameters(), lr=wandb.config.learning_rate)\n",
        "\n",
        "\n",
        "# Create data loaders for our datasets; shuffle for training, not for validation\n",
        "training_loader = torch.utils.data.DataLoader(training_set, batch_size=wandb.config.batch_size, shuffle=True)\n",
        "validation_loader = torch.utils.data.DataLoader(validation_set, batch_size=wandb.config.batch_size, shuffle=False)"
      ],
      "metadata": {
        "id": "kMfQRw2_Qa6C"
      },
      "execution_count": null,
      "outputs": []
    },
    {
      "cell_type": "code",
      "source": [
        "from torchmetrics import Accuracy, Precision, Recall, F1Score\n",
        "\n",
        "# Initialize metrics\n",
        "num_classes = len(classes)\n",
        "accuracy = Accuracy(task='multiclass',num_classes=num_classes).to(device)\n",
        "precision = Precision(task='multiclass', average='macro', num_classes=num_classes).to(device)\n",
        "recall = Recall(task='multiclass', average='macro', num_classes=num_classes).to(device)\n",
        "f1 = F1Score(task='multiclass', average='macro', num_classes=num_classes).to(device)"
      ],
      "metadata": {
        "id": "pJK96C4y1ZYI"
      },
      "execution_count": null,
      "outputs": []
    },
    {
      "cell_type": "code",
      "source": [
        "# Training loop\n",
        "for epoch in range(wandb.config.epoch):  # Number of epochs\n",
        "    correct = 0\n",
        "    total = 0\n",
        "\n",
        "    for images, labels in training_loader:\n",
        "        images, labels = images.to(device), labels.to(device) # Move to GPU\n",
        "\n",
        "        # Forward pass\n",
        "        outputs = model(images)\n",
        "        loss = criterion(outputs, labels)   # Calculate the loss\n",
        "\n",
        "        # Backward and optimize\n",
        "        optimizer.zero_grad()\n",
        "        loss.backward()\n",
        "        optimizer.step()\n",
        "\n",
        "        # Log metrics\n",
        "        wandb.log({\"loss\": loss.item()}) # what + when to track\n",
        "\n",
        "\n",
        "    # Validation loop\n",
        "    with torch.no_grad():\n",
        "        for i, (inputs, labels) in enumerate(validation_loader):\n",
        "            inputs, labels = inputs.to(device), labels.to(device)\n",
        "\n",
        "            # Calculate metrics\n",
        "            preds = torch.argmax(model(inputs), dim=1)\n",
        "            accuracy(preds, labels)\n",
        "            precision(preds, labels)\n",
        "            recall(preds, labels)\n",
        "            f1(preds, labels)\n",
        "            wandb.log({\"accuracy\": accuracy.compute(), \"precision\": precision.compute(), \"recall\": recall.compute(), \"f1\": f1.compute()})\n",
        "\n",
        "            # Reset metrics\n",
        "            accuracy.reset()\n",
        "            precision.reset()\n",
        "            recall.reset()\n",
        "            f1.reset()"
      ],
      "metadata": {
        "id": "pRXslYfXzcwT"
      },
      "execution_count": null,
      "outputs": []
    },
    {
      "cell_type": "code",
      "source": [
        "# exort to ONNX and save in Netron for Vizualization\n",
        "wandb.save(\"model.pth\")\n",
        "\n",
        "# Finish the run\n",
        "run.finish()"
      ],
      "metadata": {
        "id": "IVKayVGcaFoQ"
      },
      "execution_count": null,
      "outputs": []
    },
    {
      "cell_type": "markdown",
      "source": [
        "Take a look at all the functions here: https://colab.research.google.com/github/wandb/examples/blob/master/colabs/pytorch/Simple_PyTorch_Integration.ipynb"
      ],
      "metadata": {
        "id": "uL26TGsAS4jF"
      }
    },
    {
      "cell_type": "markdown",
      "source": [
        "## Wandb Sweeps\n",
        "\n",
        "#### What is it?\n",
        "- Automated hyperparameter search tool for machine learning.\n",
        "- Efficiently test hyperparameter combinations to find the best-performing configuration.\n",
        "\n",
        "#### Key benefits:\n",
        "- Efficient: Explore large search spaces systematically.\n",
        "- Organized: Track and compare results from all configurations.\n",
        "- Scalable: Run sweeps across multiple machines for faster exploration.\n",
        "\n",
        "### Steps:\n",
        "- Define search space: Specify hyperparameters and their possible values. E.g. See `sweep_config`\n",
        "- Choose search method: Grid search, random search, Bayesian optimization (provided by W&B).\n",
        "- Initiate the sweep using `wandb.sweep()`. Shares search space and strategy to controller.\n",
        "- Run the sweep: Launch the sweep to evaluate different hyperparameter combinations. `wandb.agent()` is the main runner. It takes a `train` function.  \n",
        "- Analyze results: Track metrics and visualize performance to identify the optimal configuration.\n",
        "\n",
        "#### Additional points:\n",
        "- Sweep controllers: Run sweeps locally or on the cloud (W&B offers options). Controls all experiments and sends config values to individual machines.\n",
        "- Integrated with experiment tracking: Comprehensive analysis within W&B.\n",
        "\n",
        "Resources:\n",
        "- Tune hyperparameters: https://docs.wandb.ai/guides/sweeps"
      ],
      "metadata": {
        "id": "Llr87F1CgE1h"
      }
    },
    {
      "cell_type": "markdown",
      "source": [
        "## Key Point!!\n",
        "- We need to make sure we have a `train` callable which we can pass to `wandb.agent()`\n",
        "- This `train` callable must have whatever might be needed for a training loop. Remember: we can run multiple experiments on different devices with the same `sweep_id`."
      ],
      "metadata": {
        "id": "AT7MDuyeAk-E"
      }
    },
    {
      "cell_type": "code",
      "source": [
        "def create_model(dropout):\n",
        "    # Define your model architecture here\n",
        "    model = nn.Sequential(\n",
        "    nn.Conv2d(1,  6,  5),\n",
        "    nn.ReLU(),\n",
        "    nn.MaxPool2d(2,  2),\n",
        "    nn.Dropout2d(dropout),\n",
        "    nn.Conv2d(6,  16,  5),\n",
        "    nn.ReLU(),\n",
        "    nn.MaxPool2d(2,  2),\n",
        "    nn.Dropout2d(dropout),\n",
        "    nn.Flatten(),\n",
        "    nn.Linear(16 *  4 *  4,  120),\n",
        "    nn.ReLU(),\n",
        "    nn.Linear(120,  84),\n",
        "    nn.ReLU(),\n",
        "    nn.Linear(84,  10)\n",
        "    )\n",
        "\n",
        "    return model"
      ],
      "metadata": {
        "id": "qnYFJmQ5QDuh"
      },
      "execution_count": null,
      "outputs": []
    },
    {
      "cell_type": "code",
      "source": [
        "def build_optimizer(model, optimizer, learning_rate):\n",
        "    if optimizer == \"sgd\":\n",
        "        optimizer = torch.optim.SGD(model.parameters(),\n",
        "                              lr=learning_rate, momentum=0.9)\n",
        "    elif optimizer == \"adam\":\n",
        "        optimizer = torch.optim.Adam(model.parameters(),\n",
        "                               lr=learning_rate)\n",
        "    return optimizer\n",
        "\n",
        "\n",
        "def train_epoch(model, training_loader, optimizer, device=\"cuda\"):\n",
        "    cumu_loss = 0\n",
        "    criterion = nn.CrossEntropyLoss()\n",
        "    for images, labels in training_loader:\n",
        "        images, labels = images.to(device), labels.to(device) # Move to GPU\n",
        "        optimizer.zero_grad()\n",
        "\n",
        "        # ➡ Forward pass\n",
        "        outputs = model(images)\n",
        "        loss = criterion(outputs, labels)\n",
        "        cumu_loss += loss.item()\n",
        "\n",
        "        # ⬅ Backward pass + weight update\n",
        "        loss.backward()\n",
        "        optimizer.step()\n",
        "\n",
        "        wandb.log({\"batch loss\": loss.item()})\n",
        "\n",
        "    return cumu_loss / len(training_loader)\n",
        "\n",
        "def get_loader(batch_size):\n",
        "    training_set = torchvision.datasets.FashionMNIST('./data', train=True, transform=transform, download=True)\n",
        "    return torch.utils.data.DataLoader(training_set, batch_size=batch_size, shuffle=True)\n"
      ],
      "metadata": {
        "id": "wJxov_wNl61C"
      },
      "execution_count": null,
      "outputs": []
    },
    {
      "cell_type": "code",
      "source": [
        "def train(config=None):\n",
        "    # Initialize a new wandb run\n",
        "    with wandb.init(config=config):\n",
        "        # If called by wandb.agent, as below,\n",
        "        # this config will be set by Sweep Controller\n",
        "        config = wandb.config\n",
        "        device = torch.device(\"cuda\" if torch.cuda.is_available() else \"cpu\")\n",
        "\n",
        "        loader = get_loader(config.batch_size)\n",
        "        model = create_model(config.dropout)\n",
        "        model.to(device)\n",
        "        optimizer = build_optimizer(model, config.optimizer, config.learning_rate)\n",
        "\n",
        "        for epoch in range(config.epochs):\n",
        "            avg_loss = train_epoch(model, loader, optimizer, device=device)\n",
        "            wandb.log({\"avg_loss\": avg_loss, \"epoch\": epoch})\n"
      ],
      "metadata": {
        "id": "FZEHnxtWloVz"
      },
      "execution_count": null,
      "outputs": []
    },
    {
      "cell_type": "code",
      "source": [
        "# Sweep Configuration\n",
        "sweep_config = {\n",
        "    'method': 'random', # Use random search strategy\n",
        "    'metric': { # The metric that you want to optimize\n",
        "        'name': 'loss',\n",
        "        'goal': 'minimize'\n",
        "    },\n",
        "    'parameters': { # The hyperparameters to tune\n",
        "        'learning_rate': {  # Learning rate for the optimizer\n",
        "            'values': [0.001,  0.01,  0.1]\n",
        "        },\n",
        "        'optimizer': {  # The optimizer to use\n",
        "            'values': ['sgd', 'adam']\n",
        "        },\n",
        "        'dropout': {    # The dropout to use\n",
        "            'values': [0.2,  0.3,  0.5]\n",
        "        },\n",
        "        'batch_size': {    # The batch size\n",
        "            'values': [32,  64,  128]\n",
        "        },\n",
        "        'epochs': {    # The number of epochs\n",
        "            'value': 1}\n",
        "    }\n",
        "}"
      ],
      "metadata": {
        "id": "-_dCioEvS8KW"
      },
      "execution_count": null,
      "outputs": []
    },
    {
      "cell_type": "code",
      "source": [
        "# Initialize the sweep\n",
        "sweep_id = wandb.sweep(sweep_config, project=\"CV-Tutorial\")"
      ],
      "metadata": {
        "id": "BbVrUgVagLwI"
      },
      "execution_count": null,
      "outputs": []
    },
    {
      "cell_type": "code",
      "source": [
        "wandb.agent(sweep_id, function=train, count=5)"
      ],
      "metadata": {
        "id": "hQY9KPAugSaj"
      },
      "execution_count": null,
      "outputs": []
    },
    {
      "cell_type": "markdown",
      "source": [
        "## ENJOY TRACKING!!\n",
        "\n",
        "<a href=\"https://imgflip.com/i/8gwcgt\"><center><img src=\"https://i.imgflip.com/8gwcgt.jpg\" title=\"YODA ADVICE\" height=\"300\"/></a><div><a href=\"https://imgflip.com/memegenerator\">YODA ADVICE</a></div>"
      ],
      "metadata": {
        "id": "Qm9_LyZpAaTr"
      }
    }
  ],
  "metadata": {
    "kernelspec": {
      "display_name": "Python 3",
      "name": "python3"
    },
    "language_info": {
      "codemirror_mode": {
        "name": "ipython",
        "version": 3
      },
      "file_extension": ".py",
      "mimetype": "text/x-python",
      "name": "python",
      "nbconvert_exporter": "python",
      "pygments_lexer": "ipython3",
      "version": "3.10.13"
    },
    "colab": {
      "provenance": [],
      "gpuType": "T4"
    },
    "accelerator": "GPU"
  },
  "nbformat": 4,
  "nbformat_minor": 0
}